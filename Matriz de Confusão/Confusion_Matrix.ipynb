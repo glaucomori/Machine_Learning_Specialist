{
  "nbformat": 4,
  "nbformat_minor": 0,
  "metadata": {
    "colab": {
      "provenance": []
    },
    "kernelspec": {
      "name": "python3",
      "display_name": "Python 3"
    },
    "language_info": {
      "name": "python"
    }
  },
  "cells": [
    {
      "cell_type": "code",
      "source": [
        "from tensorflow.keras import datasets, layers, models\n",
        "import matplotlib.pyplot as plt\n",
        "import tensorflow as tf\n",
        "import numpy as np\n",
        "import seaborn as sns\n",
        "import pandas as pd"
      ],
      "metadata": {
        "id": "GeUxhQWrN4rl"
      },
      "execution_count": 3,
      "outputs": []
    },
    {
      "cell_type": "code",
      "source": [
        "tf.__version__"
      ],
      "metadata": {
        "colab": {
          "base_uri": "https://localhost:8080/",
          "height": 36
        },
        "id": "cFllgwrsON_Z",
        "outputId": "a654519d-1eef-4eb0-a5dd-f2aa6579492c"
      },
      "execution_count": 4,
      "outputs": [
        {
          "output_type": "execute_result",
          "data": {
            "text/plain": [
              "'2.11.0'"
            ],
            "application/vnd.google.colaboratory.intrinsic+json": {
              "type": "string"
            }
          },
          "metadata": {},
          "execution_count": 4
        }
      ]
    },
    {
      "cell_type": "code",
      "source": [
        "%load_ext tensorboard"
      ],
      "metadata": {
        "id": "qyTuNNstOP2B"
      },
      "execution_count": 5,
      "outputs": []
    },
    {
      "cell_type": "code",
      "source": [
        "logdir = 'log'"
      ],
      "metadata": {
        "id": "9jHkSOYuOUGf"
      },
      "execution_count": 6,
      "outputs": []
    },
    {
      "cell_type": "code",
      "source": [
        "(train_images, train_labels), (test_images, test_labels) = datasets.mnist.load_data()\n",
        "\n",
        "train_images = train_images.reshape((60000, 28, 28, 1))\n",
        "test_images = test_images.reshape((10000, 28, 28 ,1))\n",
        "\n",
        "train_images, test_images = train_images / 255.0, test_images / 255.0\n",
        "\n",
        "classes = [0,1,2,3,4,5,6,7,8,9]"
      ],
      "metadata": {
        "colab": {
          "base_uri": "https://localhost:8080/"
        },
        "id": "v4wlHKAEOYg5",
        "outputId": "5fb506dc-abb0-4547-86e6-b0b26778472f"
      },
      "execution_count": 7,
      "outputs": [
        {
          "output_type": "stream",
          "name": "stdout",
          "text": [
            "Downloading data from https://storage.googleapis.com/tensorflow/tf-keras-datasets/mnist.npz\n",
            "11490434/11490434 [==============================] - 0s 0us/step\n"
          ]
        }
      ]
    },
    {
      "cell_type": "code",
      "source": [
        "model = models.Sequential()\n",
        "model.add(layers.Conv2D(32, (3, 3), activation='relu', input_shape=(28, 28, 1)))\n",
        "model.add(layers.MaxPooling2D((2, 2)))\n",
        "model.add(layers.Conv2D(64, (3, 3), activation='relu'))\n",
        "model.add(layers.MaxPooling2D((2, 2)))\n",
        "model.add(layers.Conv2D(64, (3, 3), activation='relu'))\n",
        "\n",
        "model.add(layers.Flatten())\n",
        "model.add(layers.Dense(64, activation='relu'))\n",
        "model.add(layers.Dense(10, activation='softmax'))"
      ],
      "metadata": {
        "id": "vqWNaCLiO_j6"
      },
      "execution_count": 8,
      "outputs": []
    },
    {
      "cell_type": "code",
      "source": [
        "tensorboard_callback = tf.keras.callbacks.TensorBoard(logdir, histogram_freq=1)"
      ],
      "metadata": {
        "id": "kSW3jNEVPxbB"
      },
      "execution_count": 9,
      "outputs": []
    },
    {
      "cell_type": "code",
      "source": [
        "model.compile(optimizer='adam',\n",
        "              loss = 'sparse_categorical_crossentropy',\n",
        "              metrics=['accuracy'])\n",
        "\n",
        "model.fit(x=train_images,\n",
        "          y=train_labels,\n",
        "          epochs=5,\n",
        "          validation_data=(test_images, test_labels))"
      ],
      "metadata": {
        "colab": {
          "base_uri": "https://localhost:8080/"
        },
        "id": "fKpRO1xRQD0J",
        "outputId": "953ff172-86f0-4835-83ad-72ba93a23209"
      },
      "execution_count": null,
      "outputs": [
        {
          "output_type": "stream",
          "name": "stdout",
          "text": [
            "Epoch 1/5\n",
            "1875/1875 [==============================] - 90s 47ms/step - loss: 0.1451 - accuracy: 0.9563 - val_loss: 0.0506 - val_accuracy: 0.9823\n",
            "Epoch 2/5\n",
            "1875/1875 [==============================] - 119s 63ms/step - loss: 0.0456 - accuracy: 0.9854 - val_loss: 0.0351 - val_accuracy: 0.9885\n",
            "Epoch 3/5\n",
            "1875/1875 [==============================] - 134s 71ms/step - loss: 0.0328 - accuracy: 0.9896 - val_loss: 0.0307 - val_accuracy: 0.9897\n",
            "Epoch 4/5\n",
            "1875/1875 [==============================] - 122s 65ms/step - loss: 0.0255 - accuracy: 0.9921 - val_loss: 0.0283 - val_accuracy: 0.9911\n",
            "Epoch 5/5\n",
            "1875/1875 [==============================] - ETA: 0s - loss: 0.0194 - accuracy: 0.9939"
          ]
        }
      ]
    },
    {
      "cell_type": "code",
      "source": [
        "y_true = test_labels\n",
        "y_pred = np.argmax(model.predict(test_images), axis=-1)"
      ],
      "metadata": {
        "colab": {
          "base_uri": "https://localhost:8080/"
        },
        "id": "i8omy-sYQgFU",
        "outputId": "1d08d330-8974-473a-a2ef-532513642598"
      },
      "execution_count": 42,
      "outputs": [
        {
          "output_type": "stream",
          "name": "stdout",
          "text": [
            "313/313 [==============================] - 6s 17ms/step\n"
          ]
        }
      ]
    },
    {
      "cell_type": "code",
      "source": [
        "classes = [0,1,2,3,4,5,6,7,8,9]"
      ],
      "metadata": {
        "id": "n5HYx21lQu_m"
      },
      "execution_count": 28,
      "outputs": []
    },
    {
      "cell_type": "code",
      "source": [
        "y_pred"
      ],
      "metadata": {
        "colab": {
          "base_uri": "https://localhost:8080/"
        },
        "id": "zDzIwzGRYYWh",
        "outputId": "c953c58d-6cc3-4b18-9ae6-5103931ce4c4"
      },
      "execution_count": 43,
      "outputs": [
        {
          "output_type": "execute_result",
          "data": {
            "text/plain": [
              "array([7, 2, 1, ..., 4, 5, 6])"
            ]
          },
          "metadata": {},
          "execution_count": 43
        }
      ]
    },
    {
      "cell_type": "code",
      "source": [
        "con_mat = tf.math.confusion_matrix(labels=y_true, predictions=y_pred).numpy()\n",
        "con_mat_norm = np.around(con_mat.astype('float') / con_mat.sum(axis=1)[:, np.newaxis], decimals=2)\n",
        "\n",
        "con_mat_df = pd.DataFrame(con_mat_norm,\n",
        "                          index = classes,\n",
        "                          columns = classes)\n",
        "\n",
        "figure = plt.figure(figsize=(8, 8))\n",
        "sns.heatmap(con_mat_df, annot=True, cmap=plt.cm.Blues)\n",
        "plt.tight_layout()\n",
        "plt.ylabel('True label')\n",
        "plt.xlabel('Predicted label')\n",
        "plt.show()"
      ],
      "metadata": {
        "colab": {
          "base_uri": "https://localhost:8080/",
          "height": 599
        },
        "id": "Mj6Z8aghQzPf",
        "outputId": "01ffb0c0-0dff-4f72-b730-89073db6c13c"
      },
      "execution_count": 44,
      "outputs": [
        {
          "output_type": "display_data",
          "data": {
            "text/plain": [
              "<Figure size 576x576 with 2 Axes>"
            ],
            "image/png": "[encoded data removed]"
          },
          "metadata": {
            "needs_background": "light"
          }
        }
      ]
    },
    {
      "cell_type": "code",
      "source": [
        "model1 = models.Sequential()\n",
        "model1.add(layers.Conv2D(32, (3, 3), activation='relu', input_shape=(28, 28, 1)))\n",
        "model1.add(layers.MaxPooling2D((2, 2)))\n",
        "model1.add(layers.Conv2D(64, (3, 3), activation='relu'))\n",
        "model1.add(layers.MaxPooling2D((2, 2)))\n",
        "model1.add(layers.Conv2D(64, (3, 3), activation='relu'))\n",
        "\n",
        "model1.add(layers.Flatten())\n",
        "model1.add(layers.Dense(64, activation='relu'))\n",
        "model1.add(layers.Dense(10, activation='softmax'))\n",
        "\n",
        "model1.compile(optimizer='adam',\n",
        "              loss = 'sparse_categorical_crossentropy',\n",
        "              metrics=['accuracy'])"
      ],
      "metadata": {
        "id": "O5T-lRl-SLSs"
      },
      "execution_count": 46,
      "outputs": []
    },
    {
      "cell_type": "code",
      "source": [
        "file_writer = tf.summary.create_file_writer(logdir + '/cm')\n",
        "\n",
        "def log_confusion_matrix(epoch, logs):\n",
        "  # Use the model to predict the values from the validation dataset.\n",
        "  test_pred = np.argmax(model.predict(test_images), axis=-1)\n",
        "\n",
        "  con_mat = tf.math.confusion_matrix(labels=test_labels, predictions=test_pred).numpy()\n",
        "  con_mat_norm = np.around(con_mat.astype('float') / con_mat.sum(axis=1)[:, np.newaxis], decimals=2)\n",
        "\n",
        "  con_mat_df = pd.DataFrame(con_mat_norm,\n",
        "                            index = classes,\n",
        "                            columns = classes)\n",
        "\n",
        "  figure = plt.figure(figsize=(8, 8))\n",
        "  sns.heatmap(con_mat_df, annot=True, cmap=plt.cm.Blues)\n",
        "  plt.tight_layout()\n",
        "  plt.ylabel('True label')\n",
        "  plt.xlabel('Predicted label')\n",
        "  \n",
        "  buf = io.BytesIO()\n",
        "  plt.savefig(buf, format='png')\n",
        "\n",
        "  plt.close(figure)\n",
        "  buf.seek(0)\n",
        "  image = tf.image.decode_png(buf.getvalue(), channels=4)\n",
        "\n",
        "  image = tf.expand_dims(image, 0)\n",
        "\n",
        "  # Log the confusion matrix as an image summary.\n",
        "  with file_writer.as_default():\n",
        "    tf.summary.image('Confusion Matrix', image, setp=epoch)\n",
        "\n",
        "logdir = 'logs/image'\n",
        "\n",
        "tensorboard_callback = tf.keras.callbacks.TensorBoard(log_dir=logdir)\n",
        "\n",
        "cm_callback = tf.keras.callbacks.LambdaCallback(on_epoch_end=log_confusion_matrix)"
      ],
      "metadata": {
        "id": "vVPKbI1ASaMh"
      },
      "execution_count": 48,
      "outputs": []
    },
    {
      "cell_type": "code",
      "source": [
        "model1.fit(\n",
        "    train_images,\n",
        "    train_labels,\n",
        "    epochs=5,\n",
        "    verbose=0,\n",
        "    callbacks=[tensorboard_callback, cm_callback],\n",
        "    validation_data=(test_images, test_labels)\n",
        ")"
      ],
      "metadata": {
        "id": "JB5xKYiNU13n"
      },
      "execution_count": null,
      "outputs": []
    },
    {
      "cell_type": "code",
      "source": [
        "# Start TensorBoard.\n",
        "%tensorboard --logdir logs/images"
      ],
      "metadata": {
        "id": "_tPIdmdxVKI4"
      },
      "execution_count": null,
      "outputs": []
    }
  ]
}