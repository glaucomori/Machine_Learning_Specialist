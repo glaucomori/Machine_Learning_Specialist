{
  "nbformat": 4,
  "nbformat_minor": 0,
  "metadata": {
    "colab": {
      "provenance": []
    },
    "kernelspec": {
      "name": "python3",
      "display_name": "Python 3"
    },
    "language_info": {
      "name": "python"
    }
  },
  "cells": [
    {
      "cell_type": "markdown",
      "source": [
        "# Cálculo de Métricas de Avaliação de Aprendizado"
      ],
      "metadata": {
        "id": "J1vdYP07r-MX"
      }
    },
    {
      "cell_type": "code",
      "execution_count": 1,
      "metadata": {
        "id": "l88YSJbogqNY"
      },
      "outputs": [],
      "source": [
        "VP = 40\n",
        "FP = 15\n",
        "FN = 10\n",
        "VN = 35\n",
        "N = VP + FP + FN + VN"
      ]
    },
    {
      "cell_type": "code",
      "source": [
        "Sensibilidade = VP / (VP + FN)"
      ],
      "metadata": {
        "id": "Ms43yDbpsLxQ"
      },
      "execution_count": 2,
      "outputs": []
    },
    {
      "cell_type": "code",
      "source": [
        "Sensibilidade"
      ],
      "metadata": {
        "colab": {
          "base_uri": "https://localhost:8080/"
        },
        "id": "bpUJ9f7WsXU3",
        "outputId": "a34f3f67-c233-48b9-b2f5-4f4d3ab3fc81"
      },
      "execution_count": 3,
      "outputs": [
        {
          "output_type": "execute_result",
          "data": {
            "text/plain": [
              "0.8"
            ]
          },
          "metadata": {},
          "execution_count": 3
        }
      ]
    },
    {
      "cell_type": "code",
      "source": [
        "Especificidade = VN / (VN + FP)"
      ],
      "metadata": {
        "id": "we4RxfNmsQD1"
      },
      "execution_count": 4,
      "outputs": []
    },
    {
      "cell_type": "code",
      "source": [
        "Especificidade"
      ],
      "metadata": {
        "colab": {
          "base_uri": "https://localhost:8080/"
        },
        "id": "Mxxh7crksaeV",
        "outputId": "31c84cbe-eab9-4099-915b-29e84f5f3e12"
      },
      "execution_count": 5,
      "outputs": [
        {
          "output_type": "execute_result",
          "data": {
            "text/plain": [
              "0.7"
            ]
          },
          "metadata": {},
          "execution_count": 5
        }
      ]
    },
    {
      "cell_type": "code",
      "source": [
        "Acuracia = (VP + VN) / N"
      ],
      "metadata": {
        "id": "pDWsev2Ysbws"
      },
      "execution_count": 6,
      "outputs": []
    },
    {
      "cell_type": "code",
      "source": [
        "Acuracia"
      ],
      "metadata": {
        "colab": {
          "base_uri": "https://localhost:8080/"
        },
        "id": "XLGvUYE9sgZM",
        "outputId": "acf90045-4e96-4902-eff9-cf7f5ef00022"
      },
      "execution_count": 7,
      "outputs": [
        {
          "output_type": "execute_result",
          "data": {
            "text/plain": [
              "0.75"
            ]
          },
          "metadata": {},
          "execution_count": 7
        }
      ]
    },
    {
      "cell_type": "code",
      "source": [
        "Precisao = VP / (VP + FP)"
      ],
      "metadata": {
        "id": "G-OTlZAEsgo0"
      },
      "execution_count": 8,
      "outputs": []
    },
    {
      "cell_type": "code",
      "source": [
        "Precisao"
      ],
      "metadata": {
        "colab": {
          "base_uri": "https://localhost:8080/"
        },
        "id": "wYv0dRmtssOk",
        "outputId": "34afb811-338e-40e5-8688-48964f9799ed"
      },
      "execution_count": 9,
      "outputs": [
        {
          "output_type": "execute_result",
          "data": {
            "text/plain": [
              "0.7272727272727273"
            ]
          },
          "metadata": {},
          "execution_count": 9
        }
      ]
    },
    {
      "cell_type": "code",
      "source": [
        "P = Precisao\n",
        "S = Sensibilidade\n",
        "F_score = 2 * (P * S) / (P + S)"
      ],
      "metadata": {
        "id": "yZVAZcszsse1"
      },
      "execution_count": 10,
      "outputs": []
    },
    {
      "cell_type": "code",
      "source": [
        "F_score"
      ],
      "metadata": {
        "colab": {
          "base_uri": "https://localhost:8080/"
        },
        "id": "TYwjk71WszLF",
        "outputId": "2aa38b85-ab63-436c-cac9-8aaca8fb58c2"
      },
      "execution_count": 11,
      "outputs": [
        {
          "output_type": "execute_result",
          "data": {
            "text/plain": [
              "0.761904761904762"
            ]
          },
          "metadata": {},
          "execution_count": 11
        }
      ]
    }
  ]
}